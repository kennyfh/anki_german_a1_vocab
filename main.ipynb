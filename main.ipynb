{
 "cells": [
  {
   "cell_type": "code",
   "execution_count": 1,
   "metadata": {},
   "outputs": [],
   "source": [
    "import pandas as pd\n",
    "import genanki"
   ]
  },
  {
   "cell_type": "code",
   "execution_count": 2,
   "metadata": {},
   "outputs": [],
   "source": [
    "df = pd.read_csv('Goethe Institute A1 Wordlist.txt', sep='\\t', header=None)\n",
    "\n",
    "# Dar nombres a las columnas\n",
    "df.columns = ['Note ID', 'de_word', 'de_sentence', 'en_word','en_sentence','en_note','de_audio']"
   ]
  },
  {
   "cell_type": "code",
   "execution_count": 3,
   "metadata": {},
   "outputs": [],
   "source": [
    "# Desarrollo de la tarjeta\n",
    "\n",
    "my_model = genanki.Model(\n",
    "    666999333,\n",
    "    \"SimpleModel\",\n",
    "    fields=[\n",
    "    {'name': 'de_word'},\n",
    "    {'name': 'de_sentence'},\n",
    "    {'name': 'de_audio'},\n",
    "    {'name': 'en_word'},\n",
    "    {'name': 'en_sentence'},\n",
    "    {'name': 'en_note'},\n",
    "  ],\n",
    "  templates=[\n",
    "    {\n",
    "      'name': 'Card 1',\n",
    "      'qfmt': '''\n",
    "{{de_word}}\n",
    "{{#de_sentence}}\n",
    "<br><br>\n",
    "<i>{{de_sentence}}</i>\n",
    "{{/de_sentence}}\n",
    "{{de_audio}}\n",
    "''',\n",
    "      'afmt':  '''\n",
    "{{FrontSide}}\n",
    "\n",
    "<hr id=answer>\n",
    "\n",
    "{{en_word}}\n",
    "{{#en_sentence}}\n",
    "<br><br>\n",
    "<i>{{en_sentence}}</i>\n",
    "{{/en_sentence}}\n",
    "{{#en_note}}\n",
    "<br><br>\n",
    "<small>{{en_note}}</small>\n",
    "{{/en_note}}\n",
    "'''\n",
    "    },\n",
    "])"
   ]
  },
  {
   "cell_type": "code",
   "execution_count": 4,
   "metadata": {},
   "outputs": [],
   "source": [
    "my_deck = genanki.Deck(2059400110, 'My deck')\n",
    "\n",
    "for idx, row in df.iterrows():\n",
    "    card = genanki.Note(\n",
    "        model=my_model,\n",
    "        fields=[str(row['de_word']), str(row['de_sentence']), str(row['de_audio']), str(row['en_word']), str(row['en_sentence']), str(row['en_note'])])\n",
    "    \n",
    "    my_deck.add_note(card)"
   ]
  },
  {
   "cell_type": "code",
   "execution_count": 5,
   "metadata": {},
   "outputs": [],
   "source": [
    "my_package = genanki.Package(my_deck)\n",
    "my_package.write_to_file('output.apkg')"
   ]
  }
 ],
 "metadata": {
  "kernelspec": {
   "display_name": ".venv",
   "language": "python",
   "name": "python3"
  },
  "language_info": {
   "codemirror_mode": {
    "name": "ipython",
    "version": 3
   },
   "file_extension": ".py",
   "mimetype": "text/x-python",
   "name": "python",
   "nbconvert_exporter": "python",
   "pygments_lexer": "ipython3",
   "version": "3.10.8"
  },
  "orig_nbformat": 4
 },
 "nbformat": 4,
 "nbformat_minor": 2
}
